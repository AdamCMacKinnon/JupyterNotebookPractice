{
 "cells": [
  {
   "cell_type": "code",
   "execution_count": 13,
   "id": "announced-orbit",
   "metadata": {},
   "outputs": [],
   "source": [
    "import pandas as pd\n",
    "import seaborn as sns"
   ]
  },
  {
   "cell_type": "code",
   "execution_count": 15,
   "id": "important-ordinary",
   "metadata": {},
   "outputs": [],
   "source": [
    "defense = pd.read_csv(\"./data/WSteamsbyDEF.csv\")"
   ]
  },
  {
   "cell_type": "code",
   "execution_count": 16,
   "id": "bigger-denmark",
   "metadata": {},
   "outputs": [
    {
     "data": {
      "text/html": [
       "<div>\n",
       "<style scoped>\n",
       "    .dataframe tbody tr th:only-of-type {\n",
       "        vertical-align: middle;\n",
       "    }\n",
       "\n",
       "    .dataframe tbody tr th {\n",
       "        vertical-align: top;\n",
       "    }\n",
       "\n",
       "    .dataframe thead th {\n",
       "        text-align: right;\n",
       "    }\n",
       "</style>\n",
       "<table border=\"1\" class=\"dataframe\">\n",
       "  <thead>\n",
       "    <tr style=\"text-align: right;\">\n",
       "      <th></th>\n",
       "      <th>Team</th>\n",
       "      <th>YEAR</th>\n",
       "      <th>WARrank</th>\n",
       "      <th>W</th>\n",
       "      <th>L</th>\n",
       "      <th>Postseason</th>\n",
       "      <th>WorldSeries</th>\n",
       "      <th>G</th>\n",
       "      <th>PA</th>\n",
       "      <th>HR</th>\n",
       "      <th>...</th>\n",
       "      <th>AVG</th>\n",
       "      <th>OBP</th>\n",
       "      <th>SLG</th>\n",
       "      <th>wOBA</th>\n",
       "      <th>wRC</th>\n",
       "      <th>EV</th>\n",
       "      <th>BsR</th>\n",
       "      <th>Off</th>\n",
       "      <th>Def</th>\n",
       "      <th>WAR</th>\n",
       "    </tr>\n",
       "  </thead>\n",
       "  <tbody>\n",
       "    <tr>\n",
       "      <th>0</th>\n",
       "      <td>Phillies</td>\n",
       "      <td>2008</td>\n",
       "      <td>3</td>\n",
       "      <td>92</td>\n",
       "      <td>70</td>\n",
       "      <td>Y</td>\n",
       "      <td>Y</td>\n",
       "      <td>2396</td>\n",
       "      <td>6273</td>\n",
       "      <td>214</td>\n",
       "      <td>...</td>\n",
       "      <td>0.255</td>\n",
       "      <td>0.332</td>\n",
       "      <td>0.438</td>\n",
       "      <td>0.334</td>\n",
       "      <td>98</td>\n",
       "      <td>NaN</td>\n",
       "      <td>23.6</td>\n",
       "      <td>4.7</td>\n",
       "      <td>123.4</td>\n",
       "      <td>32.8</td>\n",
       "    </tr>\n",
       "    <tr>\n",
       "      <th>1</th>\n",
       "      <td>Cubs</td>\n",
       "      <td>2016</td>\n",
       "      <td>1</td>\n",
       "      <td>103</td>\n",
       "      <td>58</td>\n",
       "      <td>Y</td>\n",
       "      <td>Y</td>\n",
       "      <td>2332</td>\n",
       "      <td>6335</td>\n",
       "      <td>199</td>\n",
       "      <td>...</td>\n",
       "      <td>0.256</td>\n",
       "      <td>0.343</td>\n",
       "      <td>0.429</td>\n",
       "      <td>0.333</td>\n",
       "      <td>106</td>\n",
       "      <td>88.1</td>\n",
       "      <td>17.3</td>\n",
       "      <td>61.3</td>\n",
       "      <td>104.8</td>\n",
       "      <td>37.1</td>\n",
       "    </tr>\n",
       "    <tr>\n",
       "      <th>2</th>\n",
       "      <td>Giants</td>\n",
       "      <td>2010</td>\n",
       "      <td>6</td>\n",
       "      <td>92</td>\n",
       "      <td>70</td>\n",
       "      <td>Y</td>\n",
       "      <td>Y</td>\n",
       "      <td>2354</td>\n",
       "      <td>6143</td>\n",
       "      <td>162</td>\n",
       "      <td>...</td>\n",
       "      <td>0.257</td>\n",
       "      <td>0.321</td>\n",
       "      <td>0.408</td>\n",
       "      <td>0.320</td>\n",
       "      <td>98</td>\n",
       "      <td>NaN</td>\n",
       "      <td>-18.3</td>\n",
       "      <td>-31.6</td>\n",
       "      <td>95.2</td>\n",
       "      <td>25.8</td>\n",
       "    </tr>\n",
       "    <tr>\n",
       "      <th>3</th>\n",
       "      <td>Dodgers</td>\n",
       "      <td>2017</td>\n",
       "      <td>2</td>\n",
       "      <td>104</td>\n",
       "      <td>58</td>\n",
       "      <td>Y</td>\n",
       "      <td>Y</td>\n",
       "      <td>2464</td>\n",
       "      <td>6191</td>\n",
       "      <td>221</td>\n",
       "      <td>...</td>\n",
       "      <td>0.249</td>\n",
       "      <td>0.334</td>\n",
       "      <td>0.437</td>\n",
       "      <td>0.330</td>\n",
       "      <td>104</td>\n",
       "      <td>88.2</td>\n",
       "      <td>5.8</td>\n",
       "      <td>40.7</td>\n",
       "      <td>90.2</td>\n",
       "      <td>33.3</td>\n",
       "    </tr>\n",
       "    <tr>\n",
       "      <th>4</th>\n",
       "      <td>Diamondbacks</td>\n",
       "      <td>2001</td>\n",
       "      <td>6</td>\n",
       "      <td>92</td>\n",
       "      <td>70</td>\n",
       "      <td>Y</td>\n",
       "      <td>Y</td>\n",
       "      <td>2180</td>\n",
       "      <td>6349</td>\n",
       "      <td>208</td>\n",
       "      <td>...</td>\n",
       "      <td>0.267</td>\n",
       "      <td>0.341</td>\n",
       "      <td>0.442</td>\n",
       "      <td>0.336</td>\n",
       "      <td>97</td>\n",
       "      <td>NaN</td>\n",
       "      <td>-2.6</td>\n",
       "      <td>-31.4</td>\n",
       "      <td>88.6</td>\n",
       "      <td>26.0</td>\n",
       "    </tr>\n",
       "  </tbody>\n",
       "</table>\n",
       "<p>5 rows × 27 columns</p>\n",
       "</div>"
      ],
      "text/plain": [
       "           Team  YEAR  WARrank    W   L Postseason WorldSeries     G    PA  \\\n",
       "0      Phillies  2008        3   92  70          Y           Y  2396  6273   \n",
       "1          Cubs  2016        1  103  58          Y           Y  2332  6335   \n",
       "2        Giants  2010        6   92  70          Y           Y  2354  6143   \n",
       "3       Dodgers  2017        2  104  58          Y           Y  2464  6191   \n",
       "4  Diamondbacks  2001        6   92  70          Y           Y  2180  6349   \n",
       "\n",
       "    HR  ...    AVG    OBP    SLG   wOBA  wRC    EV   BsR   Off    Def   WAR  \n",
       "0  214  ...  0.255  0.332  0.438  0.334   98   NaN  23.6   4.7  123.4  32.8  \n",
       "1  199  ...  0.256  0.343  0.429  0.333  106  88.1  17.3  61.3  104.8  37.1  \n",
       "2  162  ...  0.257  0.321  0.408  0.320   98   NaN -18.3 -31.6   95.2  25.8  \n",
       "3  221  ...  0.249  0.334  0.437  0.330  104  88.2   5.8  40.7   90.2  33.3  \n",
       "4  208  ...  0.267  0.341  0.442  0.336   97   NaN  -2.6 -31.4   88.6  26.0  \n",
       "\n",
       "[5 rows x 27 columns]"
      ]
     },
     "execution_count": 16,
     "metadata": {},
     "output_type": "execute_result"
    }
   ],
   "source": [
    "defense.head()"
   ]
  },
  {
   "cell_type": "code",
   "execution_count": 17,
   "id": "colored-detroit",
   "metadata": {},
   "outputs": [
    {
     "name": "stdout",
     "output_type": "stream",
     "text": [
      "<class 'pandas.core.frame.DataFrame'>\n",
      "RangeIndex: 41 entries, 0 to 40\n",
      "Data columns (total 27 columns):\n",
      " #   Column       Non-Null Count  Dtype  \n",
      "---  ------       --------------  -----  \n",
      " 0   Team         41 non-null     object \n",
      " 1   YEAR         41 non-null     int64  \n",
      " 2   WARrank      41 non-null     int64  \n",
      " 3   W            41 non-null     int64  \n",
      " 4   L            41 non-null     int64  \n",
      " 5   Postseason   41 non-null     object \n",
      " 6   WorldSeries  41 non-null     object \n",
      " 7   G            41 non-null     int64  \n",
      " 8   PA           41 non-null     int64  \n",
      " 9   HR           41 non-null     int64  \n",
      " 10  R            41 non-null     int64  \n",
      " 11  RBI          41 non-null     int64  \n",
      " 12  SB           41 non-null     int64  \n",
      " 13  BBrate       41 non-null     object \n",
      " 14  Krate        41 non-null     object \n",
      " 15  ISO          41 non-null     float64\n",
      " 16  BABIP        41 non-null     float64\n",
      " 17  AVG          41 non-null     float64\n",
      " 18  OBP          41 non-null     float64\n",
      " 19  SLG          41 non-null     float64\n",
      " 20  wOBA         41 non-null     float64\n",
      " 21  wRC          41 non-null     int64  \n",
      " 22  EV           10 non-null     float64\n",
      " 23  BsR          41 non-null     float64\n",
      " 24  Off          41 non-null     float64\n",
      " 25  Def          41 non-null     float64\n",
      " 26  WAR          41 non-null     float64\n",
      "dtypes: float64(11), int64(11), object(5)\n",
      "memory usage: 8.8+ KB\n"
     ]
    }
   ],
   "source": [
    "defense.info()"
   ]
  },
  {
   "cell_type": "code",
   "execution_count": 18,
   "id": "ranking-fifty",
   "metadata": {},
   "outputs": [
    {
     "name": "stderr",
     "output_type": "stream",
     "text": [
      "/Library/Frameworks/Python.framework/Versions/3.9/lib/python3.9/site-packages/seaborn/_decorators.py:36: FutureWarning: Pass the following variables as keyword args: x, y. From version 0.12, the only valid positional argument will be `data`, and passing other arguments without an explicit keyword will result in an error or misinterpretation.\n",
      "  warnings.warn(\n"
     ]
    },
    {
     "data": {
      "text/plain": [
       "<AxesSubplot:xlabel='YEAR', ylabel='Def'>"
      ]
     },
     "execution_count": 18,
     "metadata": {},
     "output_type": "execute_result"
    },
    {
     "data": {
      "image/png": "[encoded data removed]",
      "text/plain": [
       "<Figure size 432x288 with 1 Axes>"
      ]
     },
     "metadata": {
      "needs_background": "light"
     },
     "output_type": "display_data"
    }
   ],
   "source": [
    "sns.barplot(defense['YEAR'], defense['Def'])"
   ]
  },
  {
   "cell_type": "code",
   "execution_count": 22,
   "id": "accomplished-frontier",
   "metadata": {},
   "outputs": [
    {
     "data": {
      "text/plain": [
       "<AxesSubplot:xlabel='Def', ylabel='Density'>"
      ]
     },
     "execution_count": 22,
     "metadata": {},
     "output_type": "execute_result"
    },
    {
     "data": {
      "image/png": "[encoded data removed]",
      "text/plain": [
       "<Figure size 432x288 with 1 Axes>"
      ]
     },
     "metadata": {
      "needs_background": "light"
     },
     "output_type": "display_data"
    }
   ],
   "source": [
    "sns.distplot(defense['Def'])"
   ]
  },
  {
   "cell_type": "code",
   "execution_count": 24,
   "id": "welcome-navigation",
   "metadata": {},
   "outputs": [
    {
     "name": "stderr",
     "output_type": "stream",
     "text": [
      "/Library/Frameworks/Python.framework/Versions/3.9/lib/python3.9/site-packages/seaborn/_decorators.py:36: FutureWarning: Pass the following variables as keyword args: x, y. From version 0.12, the only valid positional argument will be `data`, and passing other arguments without an explicit keyword will result in an error or misinterpretation.\n",
      "  warnings.warn(\n"
     ]
    },
    {
     "data": {
      "text/plain": [
       "<seaborn.axisgrid.JointGrid at 0x119d6bd00>"
      ]
     },
     "execution_count": 24,
     "metadata": {},
     "output_type": "execute_result"
    },
    {
     "data": {
      "image/png": "[encoded data removed]",
      "text/plain": [
       "<Figure size 432x432 with 3 Axes>"
      ]
     },
     "metadata": {
      "needs_background": "light"
     },
     "output_type": "display_data"
    }
   ],
   "source": [
    "sns.jointplot(defense['YEAR'], defense['Def'])"
   ]
  }
 ],
 "metadata": {
  "kernelspec": {
   "display_name": "Python 3",
   "language": "python",
   "name": "python3"
  },
  "language_info": {
   "codemirror_mode": {
    "name": "ipython",
    "version": 3
   },
   "file_extension": ".py",
   "mimetype": "text/x-python",
   "name": "python",
   "nbconvert_exporter": "python",
   "pygments_lexer": "ipython3",
   "version": "3.9.2"
  }
 },
 "nbformat": 4,
 "nbformat_minor": 5
}
